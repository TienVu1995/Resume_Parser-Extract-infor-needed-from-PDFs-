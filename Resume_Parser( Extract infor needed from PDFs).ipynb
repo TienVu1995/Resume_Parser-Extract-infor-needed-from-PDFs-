{
 "cells": [
  {
   "cell_type": "code",
   "execution_count": 1,
   "id": "f8f5f21a",
   "metadata": {},
   "outputs": [],
   "source": [
    "import spacy"
   ]
  },
  {
   "cell_type": "markdown",
   "id": "259f5d43",
   "metadata": {},
   "source": [
    "### Load english tokenizer, tagger, parser, NER & word vectors"
   ]
  },
  {
   "cell_type": "code",
   "execution_count": 2,
   "id": "83173951",
   "metadata": {},
   "outputs": [],
   "source": [
    "nlp=spacy.load(\"en_core_web_sm\")"
   ]
  },
  {
   "cell_type": "markdown",
   "id": "263297e0",
   "metadata": {},
   "source": [
    "### Sample text"
   ]
  },
  {
   "cell_type": "code",
   "execution_count": 6,
   "id": "a341027e",
   "metadata": {},
   "outputs": [
    {
     "data": {
      "text/plain": [
       "\"Google was founded on September 4, 1998, by computer scientists Larry Page and Sergey Brin while they were PhD students at Stanford University in California. Together they own about 14% of its publicly listed shares and control 56% of its stockholder voting power through super-voting stock. The company went public via an initial public offering (IPO) in 2004. In 2015, Google was reorganized as a wholly owned subsidiary of Alphabet Inc. Google is Alphabet's largest subsidiary and is a holding company for Alphabet's internet properties and interests. Sundar Pichai was appointed CEO of Google on October 24, 2015, replacing Larry Page, who became the CEO of Alphabet. On December 3, 2019, Pichai also became the CEO of Alphabet.\""
      ]
     },
     "execution_count": 6,
     "metadata": {},
     "output_type": "execute_result"
    }
   ],
   "source": [
    "# process whole documents\n",
    "text=\"Google was founded on September 4, 1998, by computer scientists Larry Page and Sergey Brin while they were PhD students at Stanford University in California. Together they own about 14% of its publicly listed shares and control 56% of its stockholder voting power through super-voting stock. The company went public via an initial public offering (IPO) in 2004. In 2015, Google was reorganized as a wholly owned subsidiary of Alphabet Inc. Google is Alphabet's largest subsidiary and is a holding company for Alphabet's internet properties and interests. Sundar Pichai was appointed CEO of Google on October 24, 2015, replacing Larry Page, who became the CEO of Alphabet. On December 3, 2019, Pichai also became the CEO of Alphabet.\"\n",
    "text"
   ]
  },
  {
   "cell_type": "markdown",
   "id": "f349e947",
   "metadata": {},
   "source": [
    "### NLP at Work"
   ]
  },
  {
   "cell_type": "code",
   "execution_count": 7,
   "id": "803454cb",
   "metadata": {},
   "outputs": [],
   "source": [
    "doc=nlp(text)"
   ]
  },
  {
   "cell_type": "markdown",
   "id": "5fb214d0",
   "metadata": {},
   "source": [
    "### Tokenization"
   ]
  },
  {
   "cell_type": "code",
   "execution_count": 8,
   "id": "93e74231",
   "metadata": {},
   "outputs": [
    {
     "name": "stdout",
     "output_type": "stream",
     "text": [
      "Google\n",
      "was\n",
      "founded\n",
      "on\n",
      "September\n",
      "4\n",
      ",\n",
      "1998\n",
      ",\n",
      "by\n",
      "computer\n",
      "scientists\n",
      "Larry\n",
      "Page\n",
      "and\n",
      "Sergey\n",
      "Brin\n",
      "while\n",
      "they\n",
      "were\n",
      "PhD\n",
      "students\n",
      "at\n",
      "Stanford\n",
      "University\n",
      "in\n",
      "California\n",
      ".\n",
      "Together\n",
      "they\n",
      "own\n",
      "about\n",
      "14\n",
      "%\n",
      "of\n",
      "its\n",
      "publicly\n",
      "listed\n",
      "shares\n",
      "and\n",
      "control\n",
      "56\n",
      "%\n",
      "of\n",
      "its\n",
      "stockholder\n",
      "voting\n",
      "power\n",
      "through\n",
      "super\n",
      "-\n",
      "voting\n",
      "stock\n",
      ".\n",
      "The\n",
      "company\n",
      "went\n",
      "public\n",
      "via\n",
      "an\n",
      "initial\n",
      "public\n",
      "offering\n",
      "(\n",
      "IPO\n",
      ")\n",
      "in\n",
      "2004\n",
      ".\n",
      "In\n",
      "2015\n",
      ",\n",
      "Google\n",
      "was\n",
      "reorganized\n",
      "as\n",
      "a\n",
      "wholly\n",
      "owned\n",
      "subsidiary\n",
      "of\n",
      "Alphabet\n",
      "Inc.\n",
      "Google\n",
      "is\n",
      "Alphabet\n",
      "'s\n",
      "largest\n",
      "subsidiary\n",
      "and\n",
      "is\n",
      "a\n",
      "holding\n",
      "company\n",
      "for\n",
      "Alphabet\n",
      "'s\n",
      "internet\n",
      "properties\n",
      "and\n",
      "interests\n",
      ".\n",
      "Sundar\n",
      "Pichai\n",
      "was\n",
      "appointed\n",
      "CEO\n",
      "of\n",
      "Google\n",
      "on\n",
      "October\n",
      "24\n",
      ",\n",
      "2015\n",
      ",\n",
      "replacing\n",
      "Larry\n",
      "Page\n",
      ",\n",
      "who\n",
      "became\n",
      "the\n",
      "CEO\n",
      "of\n",
      "Alphabet\n",
      ".\n",
      "On\n",
      "December\n",
      "3\n",
      ",\n",
      "2019\n",
      ",\n",
      "Pichai\n",
      "also\n",
      "became\n",
      "the\n",
      "CEO\n",
      "of\n",
      "Alphabet\n",
      ".\n"
     ]
    }
   ],
   "source": [
    "for token in doc:\n",
    "    print(token)"
   ]
  },
  {
   "cell_type": "markdown",
   "id": "aebd767a",
   "metadata": {},
   "source": [
    "#### only noun"
   ]
  },
  {
   "cell_type": "code",
   "execution_count": 9,
   "id": "261e697f",
   "metadata": {},
   "outputs": [
    {
     "name": "stdout",
     "output_type": "stream",
     "text": [
      "computer\n",
      "scientists\n",
      "PhD\n",
      "students\n",
      "%\n",
      "shares\n",
      "control\n",
      "%\n",
      "stockholder\n",
      "voting\n",
      "power\n",
      "stock\n",
      "company\n",
      "offering\n",
      "subsidiary\n",
      "subsidiary\n",
      "company\n",
      "internet\n",
      "properties\n",
      "interests\n",
      "CEO\n",
      "CEO\n",
      "CEO\n"
     ]
    }
   ],
   "source": [
    "for token in doc:\n",
    "    if token.pos_==\"NOUN\":\n",
    "        print(token)\n",
    "    "
   ]
  },
  {
   "cell_type": "markdown",
   "id": "200d1930",
   "metadata": {},
   "source": [
    "### Named entity recognition"
   ]
  },
  {
   "cell_type": "code",
   "execution_count": 11,
   "id": "48c776d2",
   "metadata": {},
   "outputs": [
    {
     "name": "stdout",
     "output_type": "stream",
     "text": [
      "Google ORG\n",
      "September 4, 1998 DATE\n",
      "Larry Page PERSON\n",
      "Sergey Brin PERSON\n",
      "PhD WORK_OF_ART\n",
      "Stanford University ORG\n",
      "California GPE\n",
      "about 14% PERCENT\n",
      "56% PERCENT\n",
      "IPO ORG\n",
      "2004 DATE\n",
      "2015 DATE\n",
      "Google ORG\n",
      "Alphabet Inc. ORG\n",
      "Alphabet GPE\n",
      "Alphabet GPE\n",
      "Sundar Pichai PERSON\n",
      "Google ORG\n",
      "October 24, 2015 DATE\n",
      "Larry Page PERSON\n",
      "Alphabet GPE\n",
      "December 3, 2019 DATE\n",
      "Pichai PERSON\n",
      "Alphabet GPE\n"
     ]
    }
   ],
   "source": [
    "for entity in doc.ents:\n",
    "    print(entity.text,entity.label_)"
   ]
  },
  {
   "cell_type": "markdown",
   "id": "dcec5b4a",
   "metadata": {},
   "source": [
    "# Resume parsing"
   ]
  },
  {
   "cell_type": "code",
   "execution_count": 136,
   "id": "75a02c85",
   "metadata": {},
   "outputs": [],
   "source": [
    "import spacy # nature language processing\n",
    "import pdfminer # pdf to txt\n",
    "import re # regurlar expression\n",
    "import os # file manipulation\n",
    "import pandas as pd # csv-tablular format\n"
   ]
  },
  {
   "cell_type": "code",
   "execution_count": 137,
   "id": "7043dc2a",
   "metadata": {},
   "outputs": [],
   "source": [
    "from pdfminer.high_level import extract_text"
   ]
  },
  {
   "cell_type": "markdown",
   "id": "8ebc2638",
   "metadata": {},
   "source": [
    "### Create output file/folder"
   ]
  },
  {
   "cell_type": "code",
   "execution_count": 138,
   "id": "e270e70a",
   "metadata": {},
   "outputs": [],
   "source": [
    "def convert_pdf(input_file):\n",
    "    # create output directory if it does not exist\n",
    "    output_dir = r\"F:\\Auto_pyhton\\output\"\n",
    "    os.makedirs(output_dir, exist_ok=True)\n",
    "    \n",
    "    # construct output filepath and save text file\n",
    "    output_filename = os.path.basename(input_file).replace('.pdf', '.txt') # create output filename\n",
    "    output_filepath = os.path.join(output_dir, output_filename) # create output filepath (location to save file)\n",
    "    with open(output_filepath, \"w\", encoding='utf-8') as f_out: #open file located at outputfilepath &intention of writing to it\n",
    "        f_out.write(extract_text(input_file))  #writes the extracted text from the input PDF file to the output file\n",
    "    print(f\"{output_filepath} saved successfully!!!\") \n",
    "    return output_filepath"
   ]
  },
  {
   "cell_type": "code",
   "execution_count": 139,
   "id": "fbb6318d",
   "metadata": {},
   "outputs": [],
   "source": [
    "#load language model\n",
    "nlp=spacy.load(\"en_core_web_sm\")\n"
   ]
  },
  {
   "cell_type": "code",
   "execution_count": 140,
   "id": "e8bb6553",
   "metadata": {},
   "outputs": [],
   "source": [
    "#create output file structure\n",
    "result_dict = {'name':[], 'phone':[], 'email':[], 'skills':[]}"
   ]
  },
  {
   "cell_type": "markdown",
   "id": "acd51029",
   "metadata": {},
   "source": [
    "### Create content needed "
   ]
  },
  {
   "cell_type": "code",
   "execution_count": 141,
   "id": "3db94faf",
   "metadata": {},
   "outputs": [],
   "source": [
    "## create some regular expressions(reg)\n",
    "def parse_content(text):\n",
    "    skillset = re.compile(\"python|java|sql|hadoop|tableau\")\n",
    "    phone_num = re.compile(\"(\\d{3}[-\\.\\s]??\\d{3}[-\\.\\s]??\\d{4}|\\(\\d{3}\\)\\s*\\d{3}[-\\.\\s]??\\d{4}|\\d{3}[-\\.\\s]??\\d{4})\")\n",
    "    # nlp at work & extract content by named recognition + reg\n",
    "    doc = nlp(text)\n",
    "    name = [entity.text for entity in doc.ents if entity.label_ == \"PERSON\"][0]\n",
    "    email = [word.text for word in doc if word.like_email][0]\n",
    "    phone = re.findall(phone_num, text.lower())[0]\n",
    "    skill_list = re.findall(skillset, text.lower())\n",
    "    unique_skills_list = list(set(skill_list))\n",
    "\n",
    "    # place into placeholder\n",
    "    result_dict['name'].append(name)\n",
    "    result_dict['phone'].append(phone)\n",
    "    result_dict['email'].append(email)\n",
    "    result_dict['skills'].append(unique_skills_list)\n",
    "    print(\"Extraction completed successfully!!!\")\n"
   ]
  },
  {
   "cell_type": "markdown",
   "id": "ddb1d6da",
   "metadata": {},
   "source": [
    "### Check all input PDF file, convert to text & extract infor neeeded"
   ]
  },
  {
   "cell_type": "code",
   "execution_count": 142,
   "id": "bd1605ab",
   "metadata": {},
   "outputs": [
    {
     "name": "stdout",
     "output_type": "stream",
     "text": [
      "Reading Vu Manh Tien _CV.pdf...\n",
      "F:\\Auto_pyhton\\output\\Vu Manh Tien _CV.txt saved successfully!!!\n",
      "Extraction completed successfully!!!\n",
      "Reading VuManhTien_CV.pdf...\n",
      "F:\\Auto_pyhton\\output\\VuManhTien_CV.txt saved successfully!!!\n",
      "Extraction completed successfully!!!\n"
     ]
    }
   ],
   "source": [
    "# loop through all PDF files in the resumes directory\n",
    "resumes_dir = r\"F:\\Auto_pyhton\\resumes\"\n",
    "for file in os.listdir(resumes_dir):\n",
    "    if file.endswith('.pdf'):\n",
    "        print(f\"Reading {file}...\")\n",
    "        pdf_file = os.path.join(resumes_dir, file) \n",
    "        txt_file = convert_pdf(pdf_file) # convert pdf to text\n",
    "        with open(txt_file, \"r\", encoding='utf-8') as f_in:\n",
    "            text = f_in.read()\n",
    "            parse_content(text)  # extract info from file above\n",
    "        \n"
   ]
  },
  {
   "cell_type": "code",
   "execution_count": 143,
   "id": "403ae931",
   "metadata": {},
   "outputs": [
    {
     "name": "stdout",
     "output_type": "stream",
     "text": [
      "Resume information saved to CSV file.\n"
     ]
    }
   ],
   "source": [
    "# convert result_dict to a pandas dataframe and save it as a CSV file\n",
    "df = pd.DataFrame(result_dict)\n",
    "df.to_csv(r\"F:\\Auto_pyhton\\output\\resume_info.csv\", index=False)\n",
    "print(\"Resume information saved to CSV file.\")"
   ]
  },
  {
   "cell_type": "code",
   "execution_count": 144,
   "id": "cc125ce4",
   "metadata": {},
   "outputs": [
    {
     "data": {
      "text/html": [
       "<div>\n",
       "<style scoped>\n",
       "    .dataframe tbody tr th:only-of-type {\n",
       "        vertical-align: middle;\n",
       "    }\n",
       "\n",
       "    .dataframe tbody tr th {\n",
       "        vertical-align: top;\n",
       "    }\n",
       "\n",
       "    .dataframe thead th {\n",
       "        text-align: right;\n",
       "    }\n",
       "</style>\n",
       "<table border=\"1\" class=\"dataframe\">\n",
       "  <thead>\n",
       "    <tr style=\"text-align: right;\">\n",
       "      <th></th>\n",
       "      <th>name</th>\n",
       "      <th>phone</th>\n",
       "      <th>email</th>\n",
       "      <th>skills</th>\n",
       "    </tr>\n",
       "  </thead>\n",
       "  <tbody>\n",
       "    <tr>\n",
       "      <th>0</th>\n",
       "      <td>https://www.linkedin.com/in/tienvu1995/</td>\n",
       "      <td>035.911.0632</td>\n",
       "      <td>vumanhtien1995@gmail.com</td>\n",
       "      <td>[sql, python, tableau]</td>\n",
       "    </tr>\n",
       "    <tr>\n",
       "      <th>1</th>\n",
       "      <td>, Ba Đình</td>\n",
       "      <td>035.911.0632</td>\n",
       "      <td>vumanhtien1995@gmail.com</td>\n",
       "      <td>[sql, python, tableau]</td>\n",
       "    </tr>\n",
       "  </tbody>\n",
       "</table>\n",
       "</div>"
      ],
      "text/plain": [
       "                                      name         phone  \\\n",
       "0  https://www.linkedin.com/in/tienvu1995/  035.911.0632   \n",
       "1                                , Ba Đình  035.911.0632   \n",
       "\n",
       "                      email                  skills  \n",
       "0  vumanhtien1995@gmail.com  [sql, python, tableau]  \n",
       "1  vumanhtien1995@gmail.com  [sql, python, tableau]  "
      ]
     },
     "execution_count": 144,
     "metadata": {},
     "output_type": "execute_result"
    }
   ],
   "source": [
    "df"
   ]
  },
  {
   "cell_type": "code",
   "execution_count": null,
   "id": "155a79b7",
   "metadata": {},
   "outputs": [],
   "source": []
  }
 ],
 "metadata": {
  "kernelspec": {
   "display_name": "Python 3 (ipykernel)",
   "language": "python",
   "name": "python3"
  },
  "language_info": {
   "codemirror_mode": {
    "name": "ipython",
    "version": 3
   },
   "file_extension": ".py",
   "mimetype": "text/x-python",
   "name": "python",
   "nbconvert_exporter": "python",
   "pygments_lexer": "ipython3",
   "version": "3.11.2"
  }
 },
 "nbformat": 4,
 "nbformat_minor": 5
}
